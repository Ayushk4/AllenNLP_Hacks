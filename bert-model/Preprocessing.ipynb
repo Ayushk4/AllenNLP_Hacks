{
 "cells": [
  {
   "cell_type": "code",
   "execution_count": 55,
   "id": "5ad16027",
   "metadata": {},
   "outputs": [],
   "source": [
    "import json\n",
    " \n",
    "# Opening JSON file\n",
    "f = open('../Data/Data.json',)\n",
    " \n",
    "# returns JSON object as\n",
    "# a dictionary\n",
    "data = json.load(f)"
   ]
  },
  {
   "cell_type": "code",
   "execution_count": 56,
   "id": "096b4d65",
   "metadata": {},
   "outputs": [],
   "source": [
    "from collections import OrderedDict\n"
   ]
  },
  {
   "cell_type": "code",
   "execution_count": 57,
   "id": "117a4f23",
   "metadata": {},
   "outputs": [],
   "source": [
    "sorted_data=[]\n",
    "for element in data:\n",
    "    sentence_votes=element[\"Top level comments\"]\n",
    "    d_sorted_by_value = OrderedDict(sorted(element[\"Top level comments\"].items(), key=lambda x: x[1]))\n",
    "    sorted_data.append(d_sorted_by_value)"
   ]
  },
  {
   "cell_type": "code",
   "execution_count": null,
   "id": "5c858a87",
   "metadata": {},
   "outputs": [],
   "source": []
  },
  {
   "cell_type": "code",
   "execution_count": 58,
   "id": "ad3453d5",
   "metadata": {},
   "outputs": [],
   "source": [
    "final_dataset = []\n",
    "\n",
    "for i in sorted_data:\n",
    "    dataset=[]\n",
    "    seen_sentence1 = []\n",
    "    for sentence1 in i.keys():\n",
    "        seen_sentence1.append(sentence1)\n",
    "        for sentence2 in i.keys():\n",
    "            if sentence1 == sentence2 or sentence2 not in seen_sentence1:\n",
    "                continue\n",
    "            if sentence1 == '[removed]' or sentence2 == '[removed]':\n",
    "                continue\n",
    "            dataset.append([sentence1, sentence2, i[sentence1]-i[sentence2]])\n",
    "    final_dataset.append(dataset)   "
   ]
  },
  {
   "cell_type": "code",
   "execution_count": 59,
   "id": "df864f13",
   "metadata": {},
   "outputs": [],
   "source": [
    "final_dataset = []\n",
    "\n",
    "for i in sorted_data:\n",
    "    dataset=[]\n",
    "    seen_sentence1 = []\n",
    "    for sentence1 in i.keys():\n",
    "        seen_sentence1.append(sentence1)\n",
    "        for sentence2 in i.keys():\n",
    "            if sentence1 == sentence2 or sentence2 not in seen_sentence1:\n",
    "                continue\n",
    "            if sentence1 == '[removed]' or sentence2 == '[removed]':\n",
    "                continue\n",
    "            dataset.append([sentence1, sentence2, i[sentence1]-i[sentence2]])\n",
    "    final_dataset.append(dataset)   "
   ]
  },
  {
   "cell_type": "code",
   "execution_count": 60,
   "id": "30706699",
   "metadata": {},
   "outputs": [],
   "source": [
    "pop_ind = []\n",
    "for ind, data in enumerate(final_dataset):\n",
    "    if len(data) == 0:\n",
    "        pop_ind.append(ind)"
   ]
  },
  {
   "cell_type": "code",
   "execution_count": 61,
   "id": "6d8af10d",
   "metadata": {},
   "outputs": [],
   "source": [
    "for i in pop_ind:\n",
    "    final_dataset.pop(i)"
   ]
  },
  {
   "cell_type": "code",
   "execution_count": 62,
   "id": "20b7cfa0",
   "metadata": {},
   "outputs": [
    {
     "data": {
      "text/plain": [
       "45"
      ]
     },
     "execution_count": 62,
     "metadata": {},
     "output_type": "execute_result"
    }
   ],
   "source": [
    "len(final_dataset[9])"
   ]
  },
  {
   "cell_type": "code",
   "execution_count": 63,
   "id": "342c033c",
   "metadata": {},
   "outputs": [],
   "source": [
    "import itertools\n"
   ]
  },
  {
   "cell_type": "code",
   "execution_count": 64,
   "id": "9d4ac4a5",
   "metadata": {},
   "outputs": [],
   "source": [
    "final_dataset1 = list(itertools.chain(*final_dataset))\n"
   ]
  },
  {
   "cell_type": "code",
   "execution_count": 65,
   "id": "d8678776",
   "metadata": {},
   "outputs": [],
   "source": [
    "file_path = \"difference_votes.csv\""
   ]
  },
  {
   "cell_type": "code",
   "execution_count": 66,
   "id": "25c6eac2",
   "metadata": {},
   "outputs": [],
   "source": [
    "import csv\n",
    "with open(file_path, 'a') as outcsv:   \n",
    "    #configure writer to write standard csv file\n",
    "    writer = csv.writer(outcsv, delimiter=',')\n",
    "    writer.writerow(['sentence1', 'sentence2', 'difference_votes'])\n",
    "    for item in final_dataset1:\n",
    "        #Write item to outcsv\n",
    "        writer.writerow([item[0], item[1], item[2]])\n"
   ]
  },
  {
   "cell_type": "code",
   "execution_count": 67,
   "id": "2d9b6018",
   "metadata": {},
   "outputs": [],
   "source": [
    "import pandas as pd"
   ]
  },
  {
   "cell_type": "code",
   "execution_count": 68,
   "id": "7ac28a27",
   "metadata": {},
   "outputs": [],
   "source": [
    "df = pd.read_csv(\"difference_votes.csv\")"
   ]
  },
  {
   "cell_type": "code",
   "execution_count": 85,
   "id": "2be0cb51",
   "metadata": {},
   "outputs": [
    {
     "data": {
      "text/html": [
       "<div>\n",
       "<style scoped>\n",
       "    .dataframe tbody tr th:only-of-type {\n",
       "        vertical-align: middle;\n",
       "    }\n",
       "\n",
       "    .dataframe tbody tr th {\n",
       "        vertical-align: top;\n",
       "    }\n",
       "\n",
       "    .dataframe thead th {\n",
       "        text-align: right;\n",
       "    }\n",
       "</style>\n",
       "<table border=\"1\" class=\"dataframe\">\n",
       "  <thead>\n",
       "    <tr style=\"text-align: right;\">\n",
       "      <th></th>\n",
       "      <th>sentence1</th>\n",
       "      <th>sentence2</th>\n",
       "      <th>difference_votes</th>\n",
       "    </tr>\n",
       "  </thead>\n",
       "  <tbody>\n",
       "    <tr>\n",
       "      <th>0</th>\n",
       "      <td>One person I knew who was allergic to gluten s...</td>\n",
       "      <td>We are locking this thread because of the high...</td>\n",
       "      <td>11</td>\n",
       "    </tr>\n",
       "    <tr>\n",
       "      <th>1</th>\n",
       "      <td>a little off topic : one thing I read a long t...</td>\n",
       "      <td>We are locking this thread because of the high...</td>\n",
       "      <td>383</td>\n",
       "    </tr>\n",
       "    <tr>\n",
       "      <th>2</th>\n",
       "      <td>a little off topic : one thing I read a long t...</td>\n",
       "      <td>One person I knew who was allergic to gluten s...</td>\n",
       "      <td>372</td>\n",
       "    </tr>\n",
       "    <tr>\n",
       "      <th>3</th>\n",
       "      <td>Probably the same reason people are lactose in...</td>\n",
       "      <td>We are locking this thread because of the high...</td>\n",
       "      <td>456</td>\n",
       "    </tr>\n",
       "    <tr>\n",
       "      <th>4</th>\n",
       "      <td>Probably the same reason people are lactose in...</td>\n",
       "      <td>One person I knew who was allergic to gluten s...</td>\n",
       "      <td>445</td>\n",
       "    </tr>\n",
       "    <tr>\n",
       "      <th>...</th>\n",
       "      <td>...</td>\n",
       "      <td>...</td>\n",
       "      <td>...</td>\n",
       "    </tr>\n",
       "    <tr>\n",
       "      <th>74986</th>\n",
       "      <td>Oh man the first ELI5 I can answer! I'm a past...</td>\n",
       "      <td>The increasing inclusion of dairy fat to make ...</td>\n",
       "      <td>10409</td>\n",
       "    </tr>\n",
       "    <tr>\n",
       "      <th>74987</th>\n",
       "      <td>Oh man the first ELI5 I can answer! I'm a past...</td>\n",
       "      <td>I'm a bean to bar chocolate maker in the US.\\n...</td>\n",
       "      <td>10401</td>\n",
       "    </tr>\n",
       "    <tr>\n",
       "      <th>74988</th>\n",
       "      <td>Oh man the first ELI5 I can answer! I'm a past...</td>\n",
       "      <td>There are actually legal definitions set out b...</td>\n",
       "      <td>10398</td>\n",
       "    </tr>\n",
       "    <tr>\n",
       "      <th>74989</th>\n",
       "      <td>Oh man the first ELI5 I can answer! I'm a past...</td>\n",
       "      <td>The type of chocolate depends on the sugar to ...</td>\n",
       "      <td>10337</td>\n",
       "    </tr>\n",
       "    <tr>\n",
       "      <th>74990</th>\n",
       "      <td>Oh man the first ELI5 I can answer! I'm a past...</td>\n",
       "      <td>Chocolate is a mixture (immulsion?) Of Cocoa b...</td>\n",
       "      <td>8712</td>\n",
       "    </tr>\n",
       "  </tbody>\n",
       "</table>\n",
       "<p>74991 rows × 3 columns</p>\n",
       "</div>"
      ],
      "text/plain": [
       "                                               sentence1  \\\n",
       "0      One person I knew who was allergic to gluten s...   \n",
       "1      a little off topic : one thing I read a long t...   \n",
       "2      a little off topic : one thing I read a long t...   \n",
       "3      Probably the same reason people are lactose in...   \n",
       "4      Probably the same reason people are lactose in...   \n",
       "...                                                  ...   \n",
       "74986  Oh man the first ELI5 I can answer! I'm a past...   \n",
       "74987  Oh man the first ELI5 I can answer! I'm a past...   \n",
       "74988  Oh man the first ELI5 I can answer! I'm a past...   \n",
       "74989  Oh man the first ELI5 I can answer! I'm a past...   \n",
       "74990  Oh man the first ELI5 I can answer! I'm a past...   \n",
       "\n",
       "                                               sentence2 difference_votes  \n",
       "0      We are locking this thread because of the high...               11  \n",
       "1      We are locking this thread because of the high...              383  \n",
       "2      One person I knew who was allergic to gluten s...              372  \n",
       "3      We are locking this thread because of the high...              456  \n",
       "4      One person I knew who was allergic to gluten s...              445  \n",
       "...                                                  ...              ...  \n",
       "74986  The increasing inclusion of dairy fat to make ...            10409  \n",
       "74987  I'm a bean to bar chocolate maker in the US.\\n...            10401  \n",
       "74988  There are actually legal definitions set out b...            10398  \n",
       "74989  The type of chocolate depends on the sugar to ...            10337  \n",
       "74990  Chocolate is a mixture (immulsion?) Of Cocoa b...             8712  \n",
       "\n",
       "[74991 rows x 3 columns]"
      ]
     },
     "execution_count": 85,
     "metadata": {},
     "output_type": "execute_result"
    }
   ],
   "source": [
    "df"
   ]
  },
  {
   "cell_type": "code",
   "execution_count": 84,
   "id": "60dd44af",
   "metadata": {},
   "outputs": [],
   "source": [
    "df_test"
   ]
  },
  {
   "cell_type": "code",
   "execution_count": 83,
   "id": "0f64101e",
   "metadata": {},
   "outputs": [],
   "source": [
    "df_test = df.drop(df.index[df['difference_votes'] == 11], inplace = True)"
   ]
  },
  {
   "cell_type": "code",
   "execution_count": 231,
   "id": "4493d3f0",
   "metadata": {},
   "outputs": [],
   "source": [
    "'''This method is used to enforce proper spacing\n",
    "        Ex: In the data, you may have '[the image](https://image.xyz)';\n",
    "        this method creates space between alt text (\"the image\") and the URL.'''\n",
    "        \n",
    "df[\"sentence1\"] = df[\"sentence1\"].str.replace('\\[|\\]', ' ', regex=True)\n",
    "df[\"sentence2\"] = df[\"sentence2\"].str.replace('\\[|\\]', ' ', regex=True)"
   ]
  },
  {
   "cell_type": "code",
   "execution_count": 233,
   "id": "77820a7d",
   "metadata": {},
   "outputs": [],
   "source": [
    "# removeURL\n",
    "df[\"sentence1\"] = df[\"sentence1\"].str.replace('\\(http\\S+', 'URL', regex=True)\n",
    "df[\"sentence2\"] = df[\"sentence2\"].str.replace('\\(http\\S+', 'URL', regex=True)"
   ]
  },
  {
   "cell_type": "code",
   "execution_count": 234,
   "id": "a3554785",
   "metadata": {},
   "outputs": [],
   "source": [
    "# removeSymbols\n",
    "df[\"sentence1\"] = df[\"sentence1\"].str.replace('/r/', '', regex=True)\n",
    "df[\"sentence2\"] = df[\"sentence2\"].str.replace('/r/', '', regex=True)\n",
    "\n",
    "df[\"sentence1\"] = df[\"sentence1\"].str.replace('[^\\.\\'A-Za-z0-9]+', ' ', regex=True)\n",
    "df[\"sentence2\"] = df[\"sentence2\"].str.replace('[^\\.\\'A-Za-z0-9]+', ' ', regex=True)\n",
    "\n",
    "# removeNumbers\n",
    "df[\"sentence1\"] = df[\"sentence1\"].str.replace('\\S*\\d\\S*', '', regex=True)\n",
    "df[\"sentence2\"] = df[\"sentence2\"].str.replace('\\S*\\d\\S*', '', regex=True)\n",
    "\n",
    "\n"
   ]
  },
  {
   "cell_type": "code",
   "execution_count": 256,
   "id": "b895a261",
   "metadata": {},
   "outputs": [],
   "source": [
    "def train_validate_test_split(df, train_percent=.6, validate_percent=.2, seed=None):\n",
    "    np.random.seed(seed)\n",
    "    perm = np.random.permutation(df.index)\n",
    "    m = len(df.index)\n",
    "    train_end = int(train_percent * m)\n",
    "    validate_end = int(validate_percent * m) + train_end\n",
    "    train = df.iloc[perm[:train_end]]\n",
    "    validate = df.iloc[perm[train_end:validate_end]]\n",
    "    test = df.iloc[perm[validate_end:]]\n",
    "    return train, validate, test\n"
   ]
  },
  {
   "cell_type": "code",
   "execution_count": 260,
   "id": "a073440b",
   "metadata": {},
   "outputs": [],
   "source": [
    "train, validate, test = train_validate_test_split(df)"
   ]
  },
  {
   "cell_type": "code",
   "execution_count": 5,
   "id": "06572015",
   "metadata": {},
   "outputs": [],
   "source": [
    "import numpy as np\n",
    "import pandas as pd"
   ]
  },
  {
   "cell_type": "code",
   "execution_count": 1,
   "id": "11e72832",
   "metadata": {},
   "outputs": [
    {
     "ename": "NameError",
     "evalue": "name 'train' is not defined",
     "output_type": "error",
     "traceback": [
      "\u001b[0;31m---------------------------------------------------------------------------\u001b[0m",
      "\u001b[0;31mNameError\u001b[0m                                 Traceback (most recent call last)",
      "\u001b[0;32m<ipython-input-1-f9f9a241df84>\u001b[0m in \u001b[0;36m<module>\u001b[0;34m\u001b[0m\n\u001b[0;32m----> 1\u001b[0;31m \u001b[0mtrain\u001b[0m\u001b[0;34m.\u001b[0m\u001b[0mto_csv\u001b[0m\u001b[0;34m(\u001b[0m\u001b[0;34m\"train_regressor.csv\"\u001b[0m\u001b[0;34m,\u001b[0m\u001b[0mindex\u001b[0m\u001b[0;34m=\u001b[0m\u001b[0;32mFalse\u001b[0m\u001b[0;34m)\u001b[0m\u001b[0;34m\u001b[0m\u001b[0;34m\u001b[0m\u001b[0m\n\u001b[0m",
      "\u001b[0;31mNameError\u001b[0m: name 'train' is not defined"
     ]
    }
   ],
   "source": [
    "train.to_csv(\"train_regressor.csv\",index=False)"
   ]
  },
  {
   "cell_type": "code",
   "execution_count": 2,
   "id": "dcbafea5",
   "metadata": {},
   "outputs": [
    {
     "ename": "NameError",
     "evalue": "name 'test' is not defined",
     "output_type": "error",
     "traceback": [
      "\u001b[0;31m---------------------------------------------------------------------------\u001b[0m",
      "\u001b[0;31mNameError\u001b[0m                                 Traceback (most recent call last)",
      "\u001b[0;32m<ipython-input-2-faeedf351f48>\u001b[0m in \u001b[0;36m<module>\u001b[0;34m\u001b[0m\n\u001b[0;32m----> 1\u001b[0;31m \u001b[0mtest\u001b[0m\u001b[0;34m.\u001b[0m\u001b[0mto_csv\u001b[0m\u001b[0;34m(\u001b[0m\u001b[0;34m\"test_regressor.csv\"\u001b[0m\u001b[0;34m,\u001b[0m \u001b[0mindex\u001b[0m\u001b[0;34m=\u001b[0m\u001b[0;32mFalse\u001b[0m\u001b[0;34m)\u001b[0m\u001b[0;34m\u001b[0m\u001b[0;34m\u001b[0m\u001b[0m\n\u001b[0m",
      "\u001b[0;31mNameError\u001b[0m: name 'test' is not defined"
     ]
    }
   ],
   "source": [
    "test.to_csv(\"test_regressor.csv\", index=False)"
   ]
  },
  {
   "cell_type": "code",
   "execution_count": 268,
   "id": "4827d922",
   "metadata": {},
   "outputs": [],
   "source": [
    "validate.to_csv(\"validate_regressor.csv\", index=False)"
   ]
  },
  {
   "cell_type": "code",
   "execution_count": 107,
   "id": "8c7f6f07",
   "metadata": {},
   "outputs": [],
   "source": [
    "train = pd.read_csv(\"train_regressor.csv\")\n",
    "dev = pd.read_csv('validate_regressor.csv')\n",
    "test = pd.read_csv(\"test_regressor.csv\")\n"
   ]
  },
  {
   "cell_type": "code",
   "execution_count": 108,
   "id": "09627749",
   "metadata": {},
   "outputs": [
    {
     "data": {
      "text/plain": [
       "pandas.core.series.Series"
      ]
     },
     "execution_count": 108,
     "metadata": {},
     "output_type": "execute_result"
    }
   ],
   "source": [
    "type(train[\"difference_votes\"])"
   ]
  },
  {
   "cell_type": "code",
   "execution_count": 109,
   "id": "eba3a6ae",
   "metadata": {},
   "outputs": [],
   "source": [
    "train['difference_votes'] = np.where(train['difference_votes']< 200 , 0, train['difference_votes'])\n"
   ]
  },
  {
   "cell_type": "code",
   "execution_count": 110,
   "id": "5f5ab1a3",
   "metadata": {},
   "outputs": [],
   "source": [
    "train['difference_votes'] = np.where(train['difference_votes']>= 200 , 1, train['difference_votes'])\n"
   ]
  },
  {
   "cell_type": "code",
   "execution_count": 114,
   "id": "7c1ec9fb",
   "metadata": {},
   "outputs": [],
   "source": [
    "test['difference_votes'] = np.where(test['difference_votes']< 200 , 0, test['difference_votes'])\n",
    "test['difference_votes'] = np.where(test['difference_votes']>= 200 , 1, test['difference_votes'])"
   ]
  },
  {
   "cell_type": "code",
   "execution_count": 115,
   "id": "772e1746",
   "metadata": {},
   "outputs": [],
   "source": [
    "dev['difference_votes'] = np.where(dev['difference_votes']< 200 , 0, dev['difference_votes'])\n",
    "dev['difference_votes'] = np.where(dev['difference_votes']>= 200 , 1, dev['difference_votes'])"
   ]
  },
  {
   "cell_type": "code",
   "execution_count": 117,
   "id": "c7b45a94",
   "metadata": {},
   "outputs": [],
   "source": [
    "train.to_csv(\"finaltrain_regressor.csv\",index=False)\n",
    "test.to_csv(\"finaltest_regressor.csv\", index=False)\n",
    "dev.to_csv(\"finalvalidate_regressor.csv\", index=False)"
   ]
  },
  {
   "cell_type": "code",
   "execution_count": null,
   "id": "c09737e6",
   "metadata": {},
   "outputs": [],
   "source": []
  },
  {
   "cell_type": "code",
   "execution_count": 6,
   "id": "08e814ea",
   "metadata": {},
   "outputs": [],
   "source": [
    "def load_reddit_data():\n",
    "\n",
    "    train = pd.read_csv(\"train_regressor.csv\")\n",
    "    dev = pd.read_csv('validate_regressor.csv')\n",
    "    test = pd.read_csv(\"test_regressor.csv\")\n",
    "    def yielder():\n",
    "        for partition in [train, dev, test]:\n",
    "            data = []\n",
    "            for idx,_ in enumerate(partition):\n",
    "                data.append({\n",
    "                    'index': idx,\n",
    "                    'sentence_1': partition[\"sentence1\"][idx],\n",
    "                    'sentence_2': partition[\"sentence2\"][idx],\n",
    "                    'similarity': float(partition[\"difference_votes\"][idx])\n",
    "                })\n",
    "            yield data\n",
    "\n",
    "    return tuple([dataset for dataset in yielder()])"
   ]
  },
  {
   "cell_type": "code",
   "execution_count": 7,
   "id": "f5bd9d4a",
   "metadata": {},
   "outputs": [],
   "source": [
    "train = pd.read_csv(\"train_regressor.csv\")"
   ]
  },
  {
   "cell_type": "code",
   "execution_count": 9,
   "id": "ce0d1fd3",
   "metadata": {},
   "outputs": [],
   "source": []
  },
  {
   "cell_type": "code",
   "execution_count": 4,
   "id": "ce89156f",
   "metadata": {},
   "outputs": [],
   "source": []
  },
  {
   "cell_type": "code",
   "execution_count": null,
   "id": "908cd357",
   "metadata": {},
   "outputs": [],
   "source": []
  },
  {
   "cell_type": "code",
   "execution_count": 86,
   "id": "3487066d",
   "metadata": {},
   "outputs": [],
   "source": []
  },
  {
   "cell_type": "code",
   "execution_count": 89,
   "id": "d8fc860c",
   "metadata": {},
   "outputs": [
    {
     "name": "stderr",
     "output_type": "stream",
     "text": [
      "Generating Dummy Dataset: 100%|██████████| 10000/10000 [00:03<00:00, 2500.20it/s]\n"
     ]
    }
   ],
   "source": []
  },
  {
   "cell_type": "code",
   "execution_count": 88,
   "id": "1cbda98a",
   "metadata": {},
   "outputs": [],
   "source": [
    "import tqdm"
   ]
  },
  {
   "cell_type": "code",
   "execution_count": 91,
   "id": "98c6bbd2",
   "metadata": {},
   "outputs": [
    {
     "data": {
      "text/plain": [
       "list"
      ]
     },
     "execution_count": 91,
     "metadata": {},
     "output_type": "execute_result"
    }
   ],
   "source": [
    "type(corpus)"
   ]
  },
  {
   "cell_type": "code",
   "execution_count": null,
   "id": "077e0382",
   "metadata": {},
   "outputs": [],
   "source": []
  }
 ],
 "metadata": {
  "kernelspec": {
   "display_name": "Python 3",
   "language": "python",
   "name": "python3"
  },
  "language_info": {
   "codemirror_mode": {
    "name": "ipython",
    "version": 3
   },
   "file_extension": ".py",
   "mimetype": "text/x-python",
   "name": "python",
   "nbconvert_exporter": "python",
   "pygments_lexer": "ipython3",
   "version": "3.8.5"
  }
 },
 "nbformat": 4,
 "nbformat_minor": 5
}
